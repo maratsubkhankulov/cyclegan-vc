{
 "cells": [
  {
   "cell_type": "code",
   "execution_count": 51,
   "metadata": {},
   "outputs": [],
   "source": [
    "import torchaudio\n",
    "import torch"
   ]
  },
  {
   "cell_type": "code",
   "execution_count": 52,
   "metadata": {},
   "outputs": [
    {
     "data": {
      "text/plain": [
       "torch.Size([1, 56314])"
      ]
     },
     "execution_count": 52,
     "metadata": {},
     "output_type": "execute_result"
    }
   ],
   "source": [
    "# load file at data/vcc2016_training/SF1/100001.wav\n",
    "waveform, sample_rate = torchaudio.load('../data/vcc2016_training/SF1/100001.wav')\n",
    "waveform.size()"
   ]
  },
  {
   "attachments": {},
   "cell_type": "markdown",
   "metadata": {},
   "source": [
    "# TODO:\n",
    "- [x] Just try to implement the architecture of CycleGAN Generator and Discriminator\n",
    "- [x] Write model with Gx->y, Gy->x and Dy submodules\n",
    "- [] Reproduce inverse-forward and forward-inverse passes\n",
    "- Write the shell of training loop on random data\n",
    "- Create variables for outputs and implement loss function\n",
    "- Add backprop step\n",
    "- Zero gradients\n",
    "- Add optimizer\n",
    "- Once that works, train the network with SGD\n",
    "  - This might require actually implementing the dataset"
   ]
  },
  {
   "cell_type": "code",
   "execution_count": 150,
   "metadata": {},
   "outputs": [],
   "source": [
    "class Downsample(torch.nn.Module):\n",
    "   \n",
    "    def __init__(self, in_channels, out_channels, kernel_size, stride, padding=(0, 0)):\n",
    "      super(Downsample, self).__init__()\n",
    "      self.in_channels = in_channels\n",
    "      self.out_channels = out_channels\n",
    "      self.conv = torch.nn.Conv2d(in_channels=in_channels,\n",
    "                                  out_channels=out_channels,\n",
    "                                  kernel_size=kernel_size,\n",
    "                                  stride=stride,\n",
    "                                  padding=padding)\n",
    "      self.norm = torch.nn.InstanceNorm2d(num_features=out_channels, affine=True)\n",
    "      self.glu = torch.nn.GLU(dim=1)\n",
    "    \n",
    "    def forward(self, x):\n",
    "      # from IPython.core.debugger import set_trace;set_trace()\n",
    "      x = self.conv(x)\n",
    "      x = self.norm(x)\n",
    "      x = self.glu(x)\n",
    "      return x\n",
    "  \n",
    "class ResidualBlock(torch.nn.Module):\n",
    "  def __init__(self, in_channels1, out_channels1, in_channels2, out_channels2, kernel_size, stride):\n",
    "    super(ResidualBlock, self).__init__()\n",
    "    self.conv1 = torch.nn.Conv2d(in_channels=in_channels1,\n",
    "                                out_channels=out_channels1,\n",
    "                                kernel_size=kernel_size,\n",
    "                                stride=stride,\n",
    "                                padding='same')\n",
    "    self.norm1 = torch.nn.InstanceNorm2d(num_features=out_channels1, affine=True)\n",
    "    self.glu = torch.nn.GLU(dim=1)\n",
    "    self.conv2 = torch.nn.Conv2d(in_channels=in_channels2,\n",
    "                                out_channels=out_channels2,\n",
    "                                kernel_size=kernel_size,\n",
    "                                stride=stride,\n",
    "                                padding='same')\n",
    "    self.norm2 = torch.nn.InstanceNorm2d(num_features=out_channels2, affine=True)\n",
    "  \n",
    "  def forward(self, x):\n",
    "    residual = x.clone()\n",
    "    x = self.conv1(x)\n",
    "    x = self.norm1(x)\n",
    "    x = self.glu(x)\n",
    "    x = self.conv2(x)\n",
    "    x = self.norm2(x)\n",
    "    return x + residual\n",
    "\n",
    "class Upsample(torch.nn.Module):\n",
    "    \n",
    "    def __init__(self, in_channels, out_channels, kernel_size, stride):\n",
    "      super(Upsample, self).__init__()\n",
    "      self.conv = torch.nn.Conv2d(in_channels=in_channels,\n",
    "                                          out_channels=out_channels,\n",
    "                                          kernel_size=kernel_size,\n",
    "                                          stride=stride)\n",
    "      self.pixel_shuffle = torch.nn.PixelShuffle(upscale_factor=2)\n",
    "      self.norm = torch.nn.InstanceNorm2d(num_features=out_channels//4, affine=True)\n",
    "      self.glu = torch.nn.GLU(dim=1)\n",
    "    \n",
    "    def forward(self, x):\n",
    "      x = self.conv(x)\n",
    "      x = self.pixel_shuffle(x)\n",
    "      x = self.norm(x)\n",
    "      x = self.glu(x)\n",
    "      return x\n",
    "\n",
    "class Generator(torch.nn.Module):\n",
    "    \n",
    "    def __init__(self):\n",
    "      super(Generator, self).__init__()\n",
    "      self.conv1 = torch.nn.Conv2d(in_channels=24, out_channels=128, kernel_size=(1, 5), stride=(1, 2))\n",
    "      self.glu = torch.nn.GLU(dim=1)\n",
    "      self.downsample_twice = torch.nn.Sequential(\n",
    "        Downsample(in_channels=64, out_channels=256, kernel_size=(1, 5), stride=(1, 2)),\n",
    "        Downsample(in_channels=128, out_channels=512*2, kernel_size=(1, 5), stride=(1, 2))\n",
    "      )\n",
    "      self.residual_blocks = torch.nn.Sequential(\n",
    "        *[ResidualBlock(in_channels1=512, out_channels1=1024,\n",
    "                        in_channels2=512, out_channels2=512,\n",
    "                        kernel_size=(1, 3), stride=(1, 1)) for _ in range(6)]\n",
    "      )\n",
    "      self.upsample_twice = torch.nn.Sequential(\n",
    "         Upsample(in_channels=512, out_channels=1024, kernel_size=(1, 5), stride=(1, 1)),\n",
    "         Upsample(in_channels=128, out_channels=512, kernel_size=(1, 5), stride=(1, 1)),\n",
    "      )\n",
    "      self.conv2 = torch.nn.Conv2d(in_channels=64, out_channels=24, kernel_size=(1, 15), stride=(1, 1))\n",
    "\n",
    "    def forward(self, x):\n",
    "      x = self.conv1(x)\n",
    "      x = self.glu(x)\n",
    "      x = self.downsample_twice(x)\n",
    "      x = self.residual_blocks(x)\n",
    "      x = self.upsample_twice(x)\n",
    "      x = self.conv2(x)\n",
    "      return x\n",
    "\n",
    "class Discriminator(torch.nn.Module):\n",
    "   \n",
    "  def __init__(self):\n",
    "    super(Discriminator, self).__init__()\n",
    "    self.conv1 = torch.nn.Conv2d(in_channels=1, out_channels=128, kernel_size=(3, 3), stride=(1, 2), padding=(1,1))\n",
    "    self.glu = torch.nn.GLU(dim=1)\n",
    "    \n",
    "    self.d1 = Downsample(in_channels=64, out_channels=256, kernel_size=(3, 3), stride=(2, 2), padding=(1,1))\n",
    "    self.d2 = Downsample(in_channels=128, out_channels=512, kernel_size=(3, 3), stride=(2, 2), padding=(1,1))\n",
    "    self.d3 = Downsample(in_channels=256, out_channels=1024, kernel_size=(6, 3), stride=(1, 2), padding=(0,0))\n",
    "    \n",
    "    self.fc = torch.nn.Linear(in_features=3584, out_features=1)\n",
    "    self.sigmoid = torch.nn.Sigmoid()     \n",
    "\n",
    "  def forward(self, x):\n",
    "    x = self.conv1(x)\n",
    "    x = self.glu(x)\n",
    "    x = self.d1(x)\n",
    "    x = self.d2(x)\n",
    "    x = self.d3(x)\n",
    "    x = x.flatten(start_dim=1)\n",
    "    x = self.fc(x)\n",
    "    x = self.sigmoid(x)\n",
    "    return x"
   ]
  },
  {
   "cell_type": "code",
   "execution_count": 152,
   "metadata": {},
   "outputs": [
    {
     "name": "stdout",
     "output_type": "stream",
     "text": [
      "torch.Size([1, 128, 1, 510])\n",
      "torch.Size([1, 128, 2, 2040])\n",
      "torch.Size([1, 64, 4, 4072])\n",
      "torch.Size([1, 24, 4, 462])\n",
      "torch.Size([1, 1])\n"
     ]
    }
   ],
   "source": [
    "def test_residual_block():\n",
    "  residual = ResidualBlock(in_channels1=1024, out_channels1=1024, \n",
    "              in_channels2=512, out_channels2=1024,\n",
    "              kernel_size=(1, 3), stride=(1, 1))\n",
    "\n",
    "  residual.forward(torch.randn(1, 1024, 1, 1024)).size()\n",
    "test_residual_block()\n",
    "\n",
    "def test_downsample_block():\n",
    "  downsample = Downsample(in_channels=24, out_channels=256, kernel_size=(1, 5), stride=(1, 2))\n",
    "  print(downsample.forward(torch.randn(1, 24, 1, 1024)).size())\n",
    "test_downsample_block()\n",
    "\n",
    "def test_upsample_block():\n",
    "  upsample1 = Upsample(in_channels=512, out_channels=1024, kernel_size=(1, 5), stride=(1, 1))\n",
    "  upsample2 = Upsample(in_channels=128, out_channels=512, kernel_size=(1, 5), stride=(1, 1))\n",
    "  x = torch.randn(1, 512, 1, 1024)\n",
    "  x = upsample1.forward(x)\n",
    "  print(x.size())\n",
    "  x = upsample2.forward(x)\n",
    "  print(x.size())\n",
    "test_upsample_block()\n",
    "\n",
    "def test_generator():\n",
    "  generator = Generator()\n",
    "  print(generator.forward(torch.randn(1, 24, 1, 1024)).size())\n",
    "test_generator()\n",
    "\n",
    "def test_discriminator():\n",
    "  discriminator = Discriminator()\n",
    "  print(discriminator.forward(torch.randn(1, 1, 24, 128)).size())\n",
    "test_discriminator()"
   ]
  },
  {
   "cell_type": "code",
   "execution_count": 158,
   "metadata": {},
   "outputs": [],
   "source": [
    "class CycleGAN(torch.nn.Module):\n",
    "      \n",
    "      def __init__(self):\n",
    "        super(CycleGAN, self).__init__()\n",
    "        self.Gx_y = Generator()\n",
    "        self.Gy_x = Generator()\n",
    "        self.Dy = Discriminator()\n",
    "        self.Dx = Discriminator()"
   ]
  },
  {
   "cell_type": "code",
   "execution_count": 165,
   "metadata": {},
   "outputs": [
    {
     "name": "stdout",
     "output_type": "stream",
     "text": [
      "torch.Size([1, 24, 16, 182])\n"
     ]
    },
    {
     "ename": "RuntimeError",
     "evalue": "Given groups=1, weight of size [128, 1, 3, 3], expected input[1, 24, 4, 462] to have 1 channels, but got 24 channels instead",
     "output_type": "error",
     "traceback": [
      "\u001b[0;31m---------------------------------------------------------------------------\u001b[0m",
      "\u001b[0;31mRuntimeError\u001b[0m                              Traceback (most recent call last)",
      "Cell \u001b[0;32mIn[165], line 20\u001b[0m\n\u001b[1;32m     16\u001b[0m   \u001b[39mprint\u001b[39m(y_hat\u001b[39m.\u001b[39msize())\n\u001b[1;32m     18\u001b[0m   \u001b[39m# cycleGAN.Dx.forward(x_hat).size()\u001b[39;00m\n\u001b[0;32m---> 20\u001b[0m test_cyclegan()\n",
      "Cell \u001b[0;32mIn[165], line 10\u001b[0m, in \u001b[0;36mtest_cyclegan\u001b[0;34m()\u001b[0m\n\u001b[1;32m      7\u001b[0m x_hat \u001b[39m=\u001b[39m cycleGAN\u001b[39m.\u001b[39mGy_x\u001b[39m.\u001b[39mforward(y_hat)\n\u001b[1;32m      8\u001b[0m \u001b[39mprint\u001b[39m(x_hat\u001b[39m.\u001b[39msize())\n\u001b[0;32m---> 10\u001b[0m cycleGAN\u001b[39m.\u001b[39;49mDy\u001b[39m.\u001b[39;49mforward(y_hat)\u001b[39m.\u001b[39msize()\n\u001b[1;32m     12\u001b[0m \u001b[39m# Inverse-forward mapping\u001b[39;00m\n\u001b[1;32m     13\u001b[0m y \u001b[39m=\u001b[39m torch\u001b[39m.\u001b[39mrandn(\u001b[39m1\u001b[39m, \u001b[39m24\u001b[39m, \u001b[39m1\u001b[39m, \u001b[39m1024\u001b[39m)\n",
      "Cell \u001b[0;32mIn[150], line 112\u001b[0m, in \u001b[0;36mDiscriminator.forward\u001b[0;34m(self, x)\u001b[0m\n\u001b[1;32m    111\u001b[0m \u001b[39mdef\u001b[39;00m \u001b[39mforward\u001b[39m(\u001b[39mself\u001b[39m, x):\n\u001b[0;32m--> 112\u001b[0m   x \u001b[39m=\u001b[39m \u001b[39mself\u001b[39;49m\u001b[39m.\u001b[39;49mconv1(x)\n\u001b[1;32m    113\u001b[0m   x \u001b[39m=\u001b[39m \u001b[39mself\u001b[39m\u001b[39m.\u001b[39mglu(x)\n\u001b[1;32m    114\u001b[0m   x \u001b[39m=\u001b[39m \u001b[39mself\u001b[39m\u001b[39m.\u001b[39md1(x)\n",
      "File \u001b[0;32m~/cyclegan-vc/venv/lib/python3.10/site-packages/torch/nn/modules/module.py:1501\u001b[0m, in \u001b[0;36mModule._call_impl\u001b[0;34m(self, *args, **kwargs)\u001b[0m\n\u001b[1;32m   1496\u001b[0m \u001b[39m# If we don't have any hooks, we want to skip the rest of the logic in\u001b[39;00m\n\u001b[1;32m   1497\u001b[0m \u001b[39m# this function, and just call forward.\u001b[39;00m\n\u001b[1;32m   1498\u001b[0m \u001b[39mif\u001b[39;00m \u001b[39mnot\u001b[39;00m (\u001b[39mself\u001b[39m\u001b[39m.\u001b[39m_backward_hooks \u001b[39mor\u001b[39;00m \u001b[39mself\u001b[39m\u001b[39m.\u001b[39m_backward_pre_hooks \u001b[39mor\u001b[39;00m \u001b[39mself\u001b[39m\u001b[39m.\u001b[39m_forward_hooks \u001b[39mor\u001b[39;00m \u001b[39mself\u001b[39m\u001b[39m.\u001b[39m_forward_pre_hooks\n\u001b[1;32m   1499\u001b[0m         \u001b[39mor\u001b[39;00m _global_backward_pre_hooks \u001b[39mor\u001b[39;00m _global_backward_hooks\n\u001b[1;32m   1500\u001b[0m         \u001b[39mor\u001b[39;00m _global_forward_hooks \u001b[39mor\u001b[39;00m _global_forward_pre_hooks):\n\u001b[0;32m-> 1501\u001b[0m     \u001b[39mreturn\u001b[39;00m forward_call(\u001b[39m*\u001b[39;49margs, \u001b[39m*\u001b[39;49m\u001b[39m*\u001b[39;49mkwargs)\n\u001b[1;32m   1502\u001b[0m \u001b[39m# Do not call functions when jit is used\u001b[39;00m\n\u001b[1;32m   1503\u001b[0m full_backward_hooks, non_full_backward_hooks \u001b[39m=\u001b[39m [], []\n",
      "File \u001b[0;32m~/cyclegan-vc/venv/lib/python3.10/site-packages/torch/nn/modules/conv.py:463\u001b[0m, in \u001b[0;36mConv2d.forward\u001b[0;34m(self, input)\u001b[0m\n\u001b[1;32m    462\u001b[0m \u001b[39mdef\u001b[39;00m \u001b[39mforward\u001b[39m(\u001b[39mself\u001b[39m, \u001b[39minput\u001b[39m: Tensor) \u001b[39m-\u001b[39m\u001b[39m>\u001b[39m Tensor:\n\u001b[0;32m--> 463\u001b[0m     \u001b[39mreturn\u001b[39;00m \u001b[39mself\u001b[39;49m\u001b[39m.\u001b[39;49m_conv_forward(\u001b[39minput\u001b[39;49m, \u001b[39mself\u001b[39;49m\u001b[39m.\u001b[39;49mweight, \u001b[39mself\u001b[39;49m\u001b[39m.\u001b[39;49mbias)\n",
      "File \u001b[0;32m~/cyclegan-vc/venv/lib/python3.10/site-packages/torch/nn/modules/conv.py:459\u001b[0m, in \u001b[0;36mConv2d._conv_forward\u001b[0;34m(self, input, weight, bias)\u001b[0m\n\u001b[1;32m    455\u001b[0m \u001b[39mif\u001b[39;00m \u001b[39mself\u001b[39m\u001b[39m.\u001b[39mpadding_mode \u001b[39m!=\u001b[39m \u001b[39m'\u001b[39m\u001b[39mzeros\u001b[39m\u001b[39m'\u001b[39m:\n\u001b[1;32m    456\u001b[0m     \u001b[39mreturn\u001b[39;00m F\u001b[39m.\u001b[39mconv2d(F\u001b[39m.\u001b[39mpad(\u001b[39minput\u001b[39m, \u001b[39mself\u001b[39m\u001b[39m.\u001b[39m_reversed_padding_repeated_twice, mode\u001b[39m=\u001b[39m\u001b[39mself\u001b[39m\u001b[39m.\u001b[39mpadding_mode),\n\u001b[1;32m    457\u001b[0m                     weight, bias, \u001b[39mself\u001b[39m\u001b[39m.\u001b[39mstride,\n\u001b[1;32m    458\u001b[0m                     _pair(\u001b[39m0\u001b[39m), \u001b[39mself\u001b[39m\u001b[39m.\u001b[39mdilation, \u001b[39mself\u001b[39m\u001b[39m.\u001b[39mgroups)\n\u001b[0;32m--> 459\u001b[0m \u001b[39mreturn\u001b[39;00m F\u001b[39m.\u001b[39;49mconv2d(\u001b[39minput\u001b[39;49m, weight, bias, \u001b[39mself\u001b[39;49m\u001b[39m.\u001b[39;49mstride,\n\u001b[1;32m    460\u001b[0m                 \u001b[39mself\u001b[39;49m\u001b[39m.\u001b[39;49mpadding, \u001b[39mself\u001b[39;49m\u001b[39m.\u001b[39;49mdilation, \u001b[39mself\u001b[39;49m\u001b[39m.\u001b[39;49mgroups)\n",
      "\u001b[0;31mRuntimeError\u001b[0m: Given groups=1, weight of size [128, 1, 3, 3], expected input[1, 24, 4, 462] to have 1 channels, but got 24 channels instead"
     ]
    }
   ],
   "source": [
    "def test_cyclegan():\n",
    "  cycleGAN = CycleGAN()\n",
    "\n",
    "  # Forward-inverse mapping\n",
    "  x = torch.randn(1, 24, 1, 1024)\n",
    "  y_hat = cycleGAN.Gx_y.forward(x)\n",
    "  x_hat = cycleGAN.Gy_x.forward(y_hat)\n",
    "  print(x_hat.size())\n",
    "\n",
    "  cycleGAN.Dy.forward(y_hat).size()\n",
    "\n",
    "  # Inverse-forward mapping\n",
    "  y = torch.randn(1, 24, 1, 1024)\n",
    "  x_hat = cycleGAN.Gy_x.forward(y)\n",
    "  y_hat = cycleGAN.Gx_y.forward(x_hat)\n",
    "  print(y_hat.size())\n",
    "\n",
    "  # cycleGAN.Dx.forward(x_hat).size()\n",
    "\n",
    "test_cyclegan()"
   ]
  }
 ],
 "metadata": {
  "kernelspec": {
   "display_name": "venv",
   "language": "python",
   "name": "python3"
  },
  "language_info": {
   "codemirror_mode": {
    "name": "ipython",
    "version": 3
   },
   "file_extension": ".py",
   "mimetype": "text/x-python",
   "name": "python",
   "nbconvert_exporter": "python",
   "pygments_lexer": "ipython3",
   "version": "3.10.6"
  },
  "orig_nbformat": 4
 },
 "nbformat": 4,
 "nbformat_minor": 2
}
