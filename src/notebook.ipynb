{
 "cells": [
  {
   "cell_type": "code",
   "execution_count": 51,
   "metadata": {},
   "outputs": [],
   "source": [
    "import torchaudio\n",
    "import torch"
   ]
  },
  {
   "cell_type": "code",
   "execution_count": 52,
   "metadata": {},
   "outputs": [
    {
     "data": {
      "text/plain": [
       "torch.Size([1, 56314])"
      ]
     },
     "execution_count": 52,
     "metadata": {},
     "output_type": "execute_result"
    }
   ],
   "source": [
    "# load file at data/vcc2016_training/SF1/100001.wav\n",
    "waveform, sample_rate = torchaudio.load('../data/vcc2016_training/SF1/100001.wav')\n",
    "waveform.size()"
   ]
  },
  {
   "attachments": {},
   "cell_type": "markdown",
   "metadata": {},
   "source": [
    "# TODO:\n",
    "- Just try to implement the architecture of CycleGAN\n",
    "  - <<Here>>\n",
    "- Then run a single training loop\n",
    "- Once that works, train the network with SGD\n",
    "  - This might require actually implementing the dataset\n",
    "\n",
    "# Next:\n",
    "- Debug shape mismatches with sample input"
   ]
  },
  {
   "cell_type": "code",
   "execution_count": 69,
   "metadata": {},
   "outputs": [],
   "source": [
    "class Downsample(torch.nn.Module):\n",
    "   \n",
    "    def __init__(self, in_channels, out_channels, kernel_size, stride):\n",
    "      super(Downsample, self).__init__()\n",
    "      self.in_channels = in_channels\n",
    "      self.out_channels = out_channels\n",
    "      self.conv = torch.nn.Conv2d(in_channels=in_channels,\n",
    "                                  out_channels=out_channels,\n",
    "                                  kernel_size=kernel_size,\n",
    "                                  stride=stride)\n",
    "      self.norm = torch.nn.InstanceNorm2d(num_features=out_channels, affine=True)\n",
    "      self.glu = torch.nn.GLU(dim=1)\n",
    "    \n",
    "    def forward(self, x):\n",
    "      # from IPython.core.debugger import set_trace;set_trace()\n",
    "      x = self.conv(x)\n",
    "      x = self.norm(x)\n",
    "      x = self.glu(x)\n",
    "      return x\n",
    "  \n",
    "class ResidualBlock(torch.nn.Module):\n",
    "  def __init__(self, in_channels1, out_channels1, in_channels2, out_channels2, kernel_size, stride):\n",
    "    super(ResidualBlock, self).__init__()\n",
    "    self.conv1 = torch.nn.Conv2d(in_channels=in_channels1,\n",
    "                                out_channels=out_channels1,\n",
    "                                kernel_size=kernel_size,\n",
    "                                stride=stride,\n",
    "                                padding='same')\n",
    "    self.norm1 = torch.nn.InstanceNorm2d(num_features=out_channels1, affine=True)\n",
    "    self.glu = torch.nn.GLU(dim=1)\n",
    "    self.conv2 = torch.nn.Conv2d(in_channels=in_channels2,\n",
    "                                out_channels=out_channels2,\n",
    "                                kernel_size=kernel_size,\n",
    "                                stride=stride,\n",
    "                                padding='same')\n",
    "    self.norm2 = torch.nn.InstanceNorm2d(num_features=out_channels2, affine=True)\n",
    "  \n",
    "  def forward(self, x):\n",
    "    residual = x.clone()\n",
    "    x = self.conv1(x)\n",
    "    x = self.norm1(x)\n",
    "    x = self.glu(x)\n",
    "    x = self.conv2(x)\n",
    "    x = self.norm2(x)\n",
    "    return x + residual\n",
    "\n",
    "class Upsample(torch.nn.Module):\n",
    "    \n",
    "    def __init__(self, in_channels, out_channels, kernel_size, stride):\n",
    "      super(Upsample, self).__init__()\n",
    "      self.conv = torch.nn.Conv2d(in_channels=in_channels,\n",
    "                                          out_channels=out_channels,\n",
    "                                          kernel_size=kernel_size,\n",
    "                                          stride=stride)\n",
    "      self.pixel_shuffle = torch.nn.PixelShuffle(upscale_factor=2)\n",
    "      self.norm = torch.nn.InstanceNorm2d(num_features=out_channels/2, affine=True)\n",
    "      self.glu = torch.nn.GLU(dim=1)\n",
    "    \n",
    "    def forward(self, x):\n",
    "      x = self.conv(x)\n",
    "      x = self.pixel_shuffle(x)\n",
    "      x = self.norm(x)\n",
    "      x = self.glu(x)\n",
    "      return x\n",
    "\n",
    "class Generator(torch.nn.Module):\n",
    "    \n",
    "    def __init__(self):\n",
    "      super(Generator, self).__init__()\n",
    "      self.conv1 = torch.nn.Conv2d(in_channels=24, out_channels=128, kernel_size=(1, 5), stride=(1, 2))\n",
    "      self.glu = torch.nn.GLU(dim=1)\n",
    "      self.downsample_twice = torch.nn.Sequential(\n",
    "        Downsample(in_channels=64, out_channels=256, kernel_size=(1, 5), stride=(1, 2)),\n",
    "        Downsample(in_channels=128, out_channels=512*2, kernel_size=(1, 5), stride=(1, 2))\n",
    "      )\n",
    "      self.residual_blocks = torch.nn.Sequential(\n",
    "        *[ResidualBlock(in_channels1=512, out_channels1=1024,\n",
    "                        in_channels2=512, out_channels2=512,\n",
    "                        kernel_size=(1, 3), stride=(1, 1)) for _ in range(6)]\n",
    "      )\n",
    "      self.upsample_twice = torch.nn.Sequential(\n",
    "         Upsample(in_channels=512, out_channels=1024, kernel_size=(1, 5), stride=(1, 1)),\n",
    "         Upsample(in_channels=512, out_channels=512, kernel_size=(1, 5), stride=(1, 1)),\n",
    "      )\n",
    "      self.conv2 = torch.nn.Conv2d(in_channels=256, out_channels=24, kernel_size=(1, 15), stride=(1, 1))\n",
    "\n",
    "    def forward(self, x):\n",
    "      x = self.conv1(x)\n",
    "      x = self.glu(x)\n",
    "      x = self.downsample_twice(x)\n",
    "      # from IPython.core.debugger import set_trace;set_trace()\n",
    "      x = self.residual_blocks(x)\n",
    "      x = self.upsample_twice(x)\n",
    "      x = self.conv2(x)\n",
    "      return x"
   ]
  },
  {
   "cell_type": "code",
   "execution_count": 70,
   "metadata": {},
   "outputs": [
    {
     "ename": "RuntimeError",
     "evalue": "weight should contain 256 elements not 2048",
     "output_type": "error",
     "traceback": [
      "\u001b[0;31m---------------------------------------------------------------------------\u001b[0m",
      "\u001b[0;31mRuntimeError\u001b[0m                              Traceback (most recent call last)",
      "Cell \u001b[0;32mIn[70], line 17\u001b[0m\n\u001b[1;32m     15\u001b[0m   generator \u001b[39m=\u001b[39m Generator()\n\u001b[1;32m     16\u001b[0m   generator\u001b[39m.\u001b[39mforward(torch\u001b[39m.\u001b[39mrandn(\u001b[39m1\u001b[39m, \u001b[39m24\u001b[39m, \u001b[39m1\u001b[39m, \u001b[39m1024\u001b[39m))\u001b[39m.\u001b[39msize()\n\u001b[0;32m---> 17\u001b[0m test_generator()\n",
      "Cell \u001b[0;32mIn[70], line 16\u001b[0m, in \u001b[0;36mtest_generator\u001b[0;34m()\u001b[0m\n\u001b[1;32m     14\u001b[0m \u001b[39mdef\u001b[39;00m \u001b[39mtest_generator\u001b[39m():\n\u001b[1;32m     15\u001b[0m   generator \u001b[39m=\u001b[39m Generator()\n\u001b[0;32m---> 16\u001b[0m   generator\u001b[39m.\u001b[39;49mforward(torch\u001b[39m.\u001b[39;49mrandn(\u001b[39m1\u001b[39;49m, \u001b[39m24\u001b[39;49m, \u001b[39m1\u001b[39;49m, \u001b[39m1024\u001b[39;49m))\u001b[39m.\u001b[39msize()\n",
      "Cell \u001b[0;32mIn[69], line 93\u001b[0m, in \u001b[0;36mGenerator.forward\u001b[0;34m(self, x)\u001b[0m\n\u001b[1;32m     91\u001b[0m \u001b[39m# from IPython.core.debugger import set_trace;set_trace()\u001b[39;00m\n\u001b[1;32m     92\u001b[0m x \u001b[39m=\u001b[39m \u001b[39mself\u001b[39m\u001b[39m.\u001b[39mresidual_blocks(x)\n\u001b[0;32m---> 93\u001b[0m x \u001b[39m=\u001b[39m \u001b[39mself\u001b[39;49m\u001b[39m.\u001b[39;49mupsample_twice(x)\n\u001b[1;32m     94\u001b[0m x \u001b[39m=\u001b[39m \u001b[39mself\u001b[39m\u001b[39m.\u001b[39mconv2(x)\n\u001b[1;32m     95\u001b[0m \u001b[39mreturn\u001b[39;00m x\n",
      "File \u001b[0;32m~/cyclegan-vc/venv/lib/python3.10/site-packages/torch/nn/modules/module.py:1501\u001b[0m, in \u001b[0;36mModule._call_impl\u001b[0;34m(self, *args, **kwargs)\u001b[0m\n\u001b[1;32m   1496\u001b[0m \u001b[39m# If we don't have any hooks, we want to skip the rest of the logic in\u001b[39;00m\n\u001b[1;32m   1497\u001b[0m \u001b[39m# this function, and just call forward.\u001b[39;00m\n\u001b[1;32m   1498\u001b[0m \u001b[39mif\u001b[39;00m \u001b[39mnot\u001b[39;00m (\u001b[39mself\u001b[39m\u001b[39m.\u001b[39m_backward_hooks \u001b[39mor\u001b[39;00m \u001b[39mself\u001b[39m\u001b[39m.\u001b[39m_backward_pre_hooks \u001b[39mor\u001b[39;00m \u001b[39mself\u001b[39m\u001b[39m.\u001b[39m_forward_hooks \u001b[39mor\u001b[39;00m \u001b[39mself\u001b[39m\u001b[39m.\u001b[39m_forward_pre_hooks\n\u001b[1;32m   1499\u001b[0m         \u001b[39mor\u001b[39;00m _global_backward_pre_hooks \u001b[39mor\u001b[39;00m _global_backward_hooks\n\u001b[1;32m   1500\u001b[0m         \u001b[39mor\u001b[39;00m _global_forward_hooks \u001b[39mor\u001b[39;00m _global_forward_pre_hooks):\n\u001b[0;32m-> 1501\u001b[0m     \u001b[39mreturn\u001b[39;00m forward_call(\u001b[39m*\u001b[39;49margs, \u001b[39m*\u001b[39;49m\u001b[39m*\u001b[39;49mkwargs)\n\u001b[1;32m   1502\u001b[0m \u001b[39m# Do not call functions when jit is used\u001b[39;00m\n\u001b[1;32m   1503\u001b[0m full_backward_hooks, non_full_backward_hooks \u001b[39m=\u001b[39m [], []\n",
      "File \u001b[0;32m~/cyclegan-vc/venv/lib/python3.10/site-packages/torch/nn/modules/container.py:217\u001b[0m, in \u001b[0;36mSequential.forward\u001b[0;34m(self, input)\u001b[0m\n\u001b[1;32m    215\u001b[0m \u001b[39mdef\u001b[39;00m \u001b[39mforward\u001b[39m(\u001b[39mself\u001b[39m, \u001b[39minput\u001b[39m):\n\u001b[1;32m    216\u001b[0m     \u001b[39mfor\u001b[39;00m module \u001b[39min\u001b[39;00m \u001b[39mself\u001b[39m:\n\u001b[0;32m--> 217\u001b[0m         \u001b[39minput\u001b[39m \u001b[39m=\u001b[39m module(\u001b[39minput\u001b[39;49m)\n\u001b[1;32m    218\u001b[0m     \u001b[39mreturn\u001b[39;00m \u001b[39minput\u001b[39m\n",
      "File \u001b[0;32m~/cyclegan-vc/venv/lib/python3.10/site-packages/torch/nn/modules/module.py:1501\u001b[0m, in \u001b[0;36mModule._call_impl\u001b[0;34m(self, *args, **kwargs)\u001b[0m\n\u001b[1;32m   1496\u001b[0m \u001b[39m# If we don't have any hooks, we want to skip the rest of the logic in\u001b[39;00m\n\u001b[1;32m   1497\u001b[0m \u001b[39m# this function, and just call forward.\u001b[39;00m\n\u001b[1;32m   1498\u001b[0m \u001b[39mif\u001b[39;00m \u001b[39mnot\u001b[39;00m (\u001b[39mself\u001b[39m\u001b[39m.\u001b[39m_backward_hooks \u001b[39mor\u001b[39;00m \u001b[39mself\u001b[39m\u001b[39m.\u001b[39m_backward_pre_hooks \u001b[39mor\u001b[39;00m \u001b[39mself\u001b[39m\u001b[39m.\u001b[39m_forward_hooks \u001b[39mor\u001b[39;00m \u001b[39mself\u001b[39m\u001b[39m.\u001b[39m_forward_pre_hooks\n\u001b[1;32m   1499\u001b[0m         \u001b[39mor\u001b[39;00m _global_backward_pre_hooks \u001b[39mor\u001b[39;00m _global_backward_hooks\n\u001b[1;32m   1500\u001b[0m         \u001b[39mor\u001b[39;00m _global_forward_hooks \u001b[39mor\u001b[39;00m _global_forward_pre_hooks):\n\u001b[0;32m-> 1501\u001b[0m     \u001b[39mreturn\u001b[39;00m forward_call(\u001b[39m*\u001b[39;49margs, \u001b[39m*\u001b[39;49m\u001b[39m*\u001b[39;49mkwargs)\n\u001b[1;32m   1502\u001b[0m \u001b[39m# Do not call functions when jit is used\u001b[39;00m\n\u001b[1;32m   1503\u001b[0m full_backward_hooks, non_full_backward_hooks \u001b[39m=\u001b[39m [], []\n",
      "Cell \u001b[0;32mIn[69], line 62\u001b[0m, in \u001b[0;36mUpsample.forward\u001b[0;34m(self, x)\u001b[0m\n\u001b[1;32m     60\u001b[0m x \u001b[39m=\u001b[39m \u001b[39mself\u001b[39m\u001b[39m.\u001b[39mconv(x)\n\u001b[1;32m     61\u001b[0m x \u001b[39m=\u001b[39m \u001b[39mself\u001b[39m\u001b[39m.\u001b[39mpixel_shuffle(x)\n\u001b[0;32m---> 62\u001b[0m x \u001b[39m=\u001b[39m \u001b[39mself\u001b[39;49m\u001b[39m.\u001b[39;49mnorm(x)\n\u001b[1;32m     63\u001b[0m x \u001b[39m=\u001b[39m \u001b[39mself\u001b[39m\u001b[39m.\u001b[39mglu(x)\n\u001b[1;32m     64\u001b[0m \u001b[39mreturn\u001b[39;00m x\n",
      "File \u001b[0;32m~/cyclegan-vc/venv/lib/python3.10/site-packages/torch/nn/modules/module.py:1501\u001b[0m, in \u001b[0;36mModule._call_impl\u001b[0;34m(self, *args, **kwargs)\u001b[0m\n\u001b[1;32m   1496\u001b[0m \u001b[39m# If we don't have any hooks, we want to skip the rest of the logic in\u001b[39;00m\n\u001b[1;32m   1497\u001b[0m \u001b[39m# this function, and just call forward.\u001b[39;00m\n\u001b[1;32m   1498\u001b[0m \u001b[39mif\u001b[39;00m \u001b[39mnot\u001b[39;00m (\u001b[39mself\u001b[39m\u001b[39m.\u001b[39m_backward_hooks \u001b[39mor\u001b[39;00m \u001b[39mself\u001b[39m\u001b[39m.\u001b[39m_backward_pre_hooks \u001b[39mor\u001b[39;00m \u001b[39mself\u001b[39m\u001b[39m.\u001b[39m_forward_hooks \u001b[39mor\u001b[39;00m \u001b[39mself\u001b[39m\u001b[39m.\u001b[39m_forward_pre_hooks\n\u001b[1;32m   1499\u001b[0m         \u001b[39mor\u001b[39;00m _global_backward_pre_hooks \u001b[39mor\u001b[39;00m _global_backward_hooks\n\u001b[1;32m   1500\u001b[0m         \u001b[39mor\u001b[39;00m _global_forward_hooks \u001b[39mor\u001b[39;00m _global_forward_pre_hooks):\n\u001b[0;32m-> 1501\u001b[0m     \u001b[39mreturn\u001b[39;00m forward_call(\u001b[39m*\u001b[39;49margs, \u001b[39m*\u001b[39;49m\u001b[39m*\u001b[39;49mkwargs)\n\u001b[1;32m   1502\u001b[0m \u001b[39m# Do not call functions when jit is used\u001b[39;00m\n\u001b[1;32m   1503\u001b[0m full_backward_hooks, non_full_backward_hooks \u001b[39m=\u001b[39m [], []\n",
      "File \u001b[0;32m~/cyclegan-vc/venv/lib/python3.10/site-packages/torch/nn/modules/instancenorm.py:74\u001b[0m, in \u001b[0;36m_InstanceNorm.forward\u001b[0;34m(self, input)\u001b[0m\n\u001b[1;32m     71\u001b[0m \u001b[39mif\u001b[39;00m \u001b[39minput\u001b[39m\u001b[39m.\u001b[39mdim() \u001b[39m==\u001b[39m \u001b[39mself\u001b[39m\u001b[39m.\u001b[39m_get_no_batch_dim():\n\u001b[1;32m     72\u001b[0m     \u001b[39mreturn\u001b[39;00m \u001b[39mself\u001b[39m\u001b[39m.\u001b[39m_handle_no_batch_input(\u001b[39minput\u001b[39m)\n\u001b[0;32m---> 74\u001b[0m \u001b[39mreturn\u001b[39;00m \u001b[39mself\u001b[39;49m\u001b[39m.\u001b[39;49m_apply_instance_norm(\u001b[39minput\u001b[39;49m)\n",
      "File \u001b[0;32m~/cyclegan-vc/venv/lib/python3.10/site-packages/torch/nn/modules/instancenorm.py:34\u001b[0m, in \u001b[0;36m_InstanceNorm._apply_instance_norm\u001b[0;34m(self, input)\u001b[0m\n\u001b[1;32m     33\u001b[0m \u001b[39mdef\u001b[39;00m \u001b[39m_apply_instance_norm\u001b[39m(\u001b[39mself\u001b[39m, \u001b[39minput\u001b[39m):\n\u001b[0;32m---> 34\u001b[0m     \u001b[39mreturn\u001b[39;00m F\u001b[39m.\u001b[39;49minstance_norm(\n\u001b[1;32m     35\u001b[0m         \u001b[39minput\u001b[39;49m, \u001b[39mself\u001b[39;49m\u001b[39m.\u001b[39;49mrunning_mean, \u001b[39mself\u001b[39;49m\u001b[39m.\u001b[39;49mrunning_var, \u001b[39mself\u001b[39;49m\u001b[39m.\u001b[39;49mweight, \u001b[39mself\u001b[39;49m\u001b[39m.\u001b[39;49mbias,\n\u001b[1;32m     36\u001b[0m         \u001b[39mself\u001b[39;49m\u001b[39m.\u001b[39;49mtraining \u001b[39mor\u001b[39;49;00m \u001b[39mnot\u001b[39;49;00m \u001b[39mself\u001b[39;49m\u001b[39m.\u001b[39;49mtrack_running_stats, \u001b[39mself\u001b[39;49m\u001b[39m.\u001b[39;49mmomentum, \u001b[39mself\u001b[39;49m\u001b[39m.\u001b[39;49meps)\n",
      "File \u001b[0;32m~/cyclegan-vc/venv/lib/python3.10/site-packages/torch/nn/functional.py:2495\u001b[0m, in \u001b[0;36minstance_norm\u001b[0;34m(input, running_mean, running_var, weight, bias, use_input_stats, momentum, eps)\u001b[0m\n\u001b[1;32m   2493\u001b[0m \u001b[39mif\u001b[39;00m use_input_stats:\n\u001b[1;32m   2494\u001b[0m     _verify_spatial_size(\u001b[39minput\u001b[39m\u001b[39m.\u001b[39msize())\n\u001b[0;32m-> 2495\u001b[0m \u001b[39mreturn\u001b[39;00m torch\u001b[39m.\u001b[39;49minstance_norm(\n\u001b[1;32m   2496\u001b[0m     \u001b[39minput\u001b[39;49m, weight, bias, running_mean, running_var, use_input_stats, momentum, eps, torch\u001b[39m.\u001b[39;49mbackends\u001b[39m.\u001b[39;49mcudnn\u001b[39m.\u001b[39;49menabled\n\u001b[1;32m   2497\u001b[0m )\n",
      "\u001b[0;31mRuntimeError\u001b[0m: weight should contain 256 elements not 2048"
     ]
    }
   ],
   "source": [
    "def test_residual_block():\n",
    "  residual = ResidualBlock(in_channels1=1024, out_channels1=1024, \n",
    "              in_channels2=512, out_channels2=1024,\n",
    "              kernel_size=(1, 3), stride=(1, 1))\n",
    "\n",
    "  residual.forward(torch.randn(1, 1024, 1, 1024)).size()\n",
    "# test_residual_block()\n",
    "\n",
    "def test_downsample_block():\n",
    "  downsample = Downsample(in_channels=24, out_channels=256, kernel_size=(1, 5), stride=(1, 2))\n",
    "  print(downsample.forward(torch.randn(1, 24, 1, 1024)).size())\n",
    "# test_downsample_block()\n",
    "\n",
    "def test_generator():\n",
    "  generator = Generator()\n",
    "  generator.forward(torch.randn(1, 24, 1, 1024)).size()\n",
    "test_generator()"
   ]
  }
 ],
 "metadata": {
  "kernelspec": {
   "display_name": "venv",
   "language": "python",
   "name": "python3"
  },
  "language_info": {
   "codemirror_mode": {
    "name": "ipython",
    "version": 3
   },
   "file_extension": ".py",
   "mimetype": "text/x-python",
   "name": "python",
   "nbconvert_exporter": "python",
   "pygments_lexer": "ipython3",
   "version": "3.10.6"
  },
  "orig_nbformat": 4
 },
 "nbformat": 4,
 "nbformat_minor": 2
}
