{
 "cells": [
  {
   "cell_type": "code",
   "execution_count": 1,
   "metadata": {},
   "outputs": [],
   "source": [
    "import torchaudio\n",
    "import torch"
   ]
  },
  {
   "cell_type": "code",
   "execution_count": 3,
   "metadata": {},
   "outputs": [
    {
     "data": {
      "text/plain": [
       "torch.Size([1, 56314])"
      ]
     },
     "execution_count": 3,
     "metadata": {},
     "output_type": "execute_result"
    }
   ],
   "source": [
    "# load file at data/vcc2016_training/SF1/100001.wav\n",
    "waveform, sample_rate = torchaudio.load('../data/vcc2016_training/SF1/100001.wav')\n",
    "waveform.size()"
   ]
  },
  {
   "attachments": {},
   "cell_type": "markdown",
   "metadata": {},
   "source": [
    "# TODO:\n",
    "- Just try to implement the architecture of CycleGAN\n",
    "  - <<Here>>\n",
    "- Then run a single training loop\n",
    "- Once that works, train the network with SGD\n",
    "  - This might require actually implementing the dataset\n",
    "\n",
    "# Next:\n",
    "- Finish downsample block"
   ]
  },
  {
   "cell_type": "code",
   "execution_count": 9,
   "metadata": {},
   "outputs": [],
   "source": [
    "class Downsample(torch.nn.Module):\n",
    "   \n",
    "    def __init__(self, num_channels, kernel_size, stride):\n",
    "      self.conv = torch.nn.Conv2d(in_channels=num_channels,\n",
    "                                  out_channels=num_channels,\n",
    "                                  kernel_size=kernel_size,\n",
    "                                  stride=stride)\n",
    "      self.norm = torch.nn.InstanceNorm2d(num_features=num_channels, affine=True)\n",
    "      self.glu = torch.nn.GLU(dim=1)\n",
    "    \n",
    "    def forward(self, x):\n",
    "      x = self.conv(x)\n",
    "      x = self.norm(x)\n",
    "      x = self.glu(x)\n",
    "      return x\n",
    "  \n",
    "class ResidualBlock(torch.nn.Module):\n",
    "  def __init__(self, num_channels1, num_channels2, kernel_size, stride):\n",
    "    self.conv1 = torch.nn.Conv2d(in_channels=num_channels1,\n",
    "                                out_channels=num_channels1,\n",
    "                                kernel_size=kernel_size,\n",
    "                                stride=stride)\n",
    "    self.norm1 = torch.nn.InstanceNorm2d(num_features=num_channels1, affine=True)\n",
    "    self.conv2 = torch.nn.Conv2d(in_channels=num_channels2,\n",
    "                                out_channels=num_channels2,\n",
    "                                kernel_size=kernel_size,\n",
    "                                stride=stride)\n",
    "    self.norm2 = torch.nn.InstanceNorm2d(num_features=num_channels2, affine=True)\n",
    "  \n",
    "  def forward(self, x):\n",
    "    residual = x.clone()\n",
    "    x = self.conv1(x)\n",
    "    x = self.norm1(x)\n",
    "    x = self.glu(x)\n",
    "    x = self.conv2(x)\n",
    "    x = self.norm2(x)\n",
    "    return x + residual\n",
    "\n",
    "class Upsample(torch.nn.Module):\n",
    "    \n",
    "    def __init__(self, num_channels, kernel_size, stride):\n",
    "      self.conv = torch.nn.Conv2d(in_channels=num_channels,\n",
    "                                          out_channels=num_channels,\n",
    "                                          kernel_size=kernel_size,\n",
    "                                          stride=stride)\n",
    "      self.pixel_shuffle = torch.nn.PixelShuffle(upscale_factor=2)\n",
    "      self.norm = torch.nn.InstanceNorm2d(num_features=num_channels, affine=True)\n",
    "      self.glu = torch.nn.GLU(dim=1)\n",
    "    \n",
    "    def forward(self, x):\n",
    "      x = self.conv(x)\n",
    "      x = self.pixel_shuffle(x)\n",
    "      x = self.norm(x)\n",
    "      x = self.glu(x)\n",
    "      return x\n",
    "\n",
    "class Generator(torch.nn.Module):\n",
    "    \n",
    "    def __init__(self):\n",
    "      self.conv1 = torch.nn.Conv2d(in_channels=128, out_channels=128, kernel_size=(1, 5), stride=(1, 2))\n",
    "      self.glu = torch.nn.GLU(dim=1)\n",
    "      self.downsample_twice = torch.nn.Sequential(\n",
    "        Downsample(num_channels=256, kernel_size=(1, 5), stride=(1, 2)),\n",
    "        Downsample(num_channels=512, kernel_size=(1, 5), stride=(1, 2))\n",
    "      )\n",
    "      self.residual_blocks = torch.nn.Sequential(\n",
    "        [ResidualBlock(num_channels1=1024, num_channels2=512, kernel_size=(1, 3), stride=(1, 1)) for _ in range(6)]\n",
    "      )\n",
    "      self.upsample_twice = torch.nn.Sequential(\n",
    "         Upsample(num_channels=1024, kernel_size=(1, 5), stride=(1, 1)),\n",
    "         Upsample(num_channels=512, kernel_size=(1, 5), stride=(1, 1)),\n",
    "      )\n",
    "      self.conv2 = torch.nn.Conv2d(in_channels=24, out_channels=24, kernel_size=(1, 15), stride=(1, 1))\n",
    "\n",
    "    def forward(self, x):\n",
    "      x = self.conv1(x)\n",
    "      x = self.glu(x)\n",
    "      x = self.downsample_twice(x)\n",
    "      x = self.residual_blocks(x)\n",
    "      x = self.upsample_twice(x)\n",
    "      x = self.conv2(x)\n",
    "      return x"
   ]
  },
  {
   "cell_type": "code",
   "execution_count": 10,
   "metadata": {},
   "outputs": [
    {
     "ename": "AttributeError",
     "evalue": "cannot assign module before Module.__init__() call",
     "output_type": "error",
     "traceback": [
      "\u001b[0;31m---------------------------------------------------------------------------\u001b[0m",
      "\u001b[0;31mAttributeError\u001b[0m                            Traceback (most recent call last)",
      "Cell \u001b[0;32mIn[10], line 1\u001b[0m\n\u001b[0;32m----> 1\u001b[0m generator \u001b[39m=\u001b[39m Generator()\n",
      "Cell \u001b[0;32mIn[9], line 60\u001b[0m, in \u001b[0;36mGenerator.__init__\u001b[0;34m(self)\u001b[0m\n\u001b[1;32m     59\u001b[0m \u001b[39mdef\u001b[39;00m \u001b[39m__init__\u001b[39m(\u001b[39mself\u001b[39m):\n\u001b[0;32m---> 60\u001b[0m   \u001b[39mself\u001b[39;49m\u001b[39m.\u001b[39;49mconv1 \u001b[39m=\u001b[39m torch\u001b[39m.\u001b[39mnn\u001b[39m.\u001b[39mConv2d(in_channels\u001b[39m=\u001b[39m\u001b[39m128\u001b[39m, out_channels\u001b[39m=\u001b[39m\u001b[39m128\u001b[39m, kernel_size\u001b[39m=\u001b[39m(\u001b[39m1\u001b[39m, \u001b[39m5\u001b[39m), stride\u001b[39m=\u001b[39m(\u001b[39m1\u001b[39m, \u001b[39m2\u001b[39m))\n\u001b[1;32m     61\u001b[0m   \u001b[39mself\u001b[39m\u001b[39m.\u001b[39mglu \u001b[39m=\u001b[39m torch\u001b[39m.\u001b[39mnn\u001b[39m.\u001b[39mGLU(dim\u001b[39m=\u001b[39m\u001b[39m1\u001b[39m)\n\u001b[1;32m     62\u001b[0m   \u001b[39mself\u001b[39m\u001b[39m.\u001b[39mdownsample_twice \u001b[39m=\u001b[39m torch\u001b[39m.\u001b[39mnn\u001b[39m.\u001b[39mSequential(\n\u001b[1;32m     63\u001b[0m     Downsample(num_channels\u001b[39m=\u001b[39m\u001b[39m256\u001b[39m, kernel_size\u001b[39m=\u001b[39m(\u001b[39m1\u001b[39m, \u001b[39m5\u001b[39m), stride\u001b[39m=\u001b[39m(\u001b[39m1\u001b[39m, \u001b[39m2\u001b[39m)),\n\u001b[1;32m     64\u001b[0m     Downsample(num_channels\u001b[39m=\u001b[39m\u001b[39m512\u001b[39m, kernel_size\u001b[39m=\u001b[39m(\u001b[39m1\u001b[39m, \u001b[39m5\u001b[39m), stride\u001b[39m=\u001b[39m(\u001b[39m1\u001b[39m, \u001b[39m2\u001b[39m))\n\u001b[1;32m     65\u001b[0m   )\n",
      "File \u001b[0;32m~/cyclegan-vc/venv/lib/python3.10/site-packages/torch/nn/modules/module.py:1643\u001b[0m, in \u001b[0;36mModule.__setattr__\u001b[0;34m(self, name, value)\u001b[0m\n\u001b[1;32m   1641\u001b[0m \u001b[39mif\u001b[39;00m \u001b[39misinstance\u001b[39m(value, Module):\n\u001b[1;32m   1642\u001b[0m     \u001b[39mif\u001b[39;00m modules \u001b[39mis\u001b[39;00m \u001b[39mNone\u001b[39;00m:\n\u001b[0;32m-> 1643\u001b[0m         \u001b[39mraise\u001b[39;00m \u001b[39mAttributeError\u001b[39;00m(\n\u001b[1;32m   1644\u001b[0m             \u001b[39m\"\u001b[39m\u001b[39mcannot assign module before Module.__init__() call\u001b[39m\u001b[39m\"\u001b[39m)\n\u001b[1;32m   1645\u001b[0m     remove_from(\u001b[39mself\u001b[39m\u001b[39m.\u001b[39m\u001b[39m__dict__\u001b[39m, \u001b[39mself\u001b[39m\u001b[39m.\u001b[39m_parameters, \u001b[39mself\u001b[39m\u001b[39m.\u001b[39m_buffers, \u001b[39mself\u001b[39m\u001b[39m.\u001b[39m_non_persistent_buffers_set)\n\u001b[1;32m   1646\u001b[0m     \u001b[39mfor\u001b[39;00m hook \u001b[39min\u001b[39;00m _global_module_registration_hooks\u001b[39m.\u001b[39mvalues():\n",
      "\u001b[0;31mAttributeError\u001b[0m: cannot assign module before Module.__init__() call"
     ]
    }
   ],
   "source": [
    "generator = Generator()"
   ]
  }
 ],
 "metadata": {
  "kernelspec": {
   "display_name": "venv",
   "language": "python",
   "name": "python3"
  },
  "language_info": {
   "codemirror_mode": {
    "name": "ipython",
    "version": 3
   },
   "file_extension": ".py",
   "mimetype": "text/x-python",
   "name": "python",
   "nbconvert_exporter": "python",
   "pygments_lexer": "ipython3",
   "version": "3.10.6"
  },
  "orig_nbformat": 4
 },
 "nbformat": 4,
 "nbformat_minor": 2
}
